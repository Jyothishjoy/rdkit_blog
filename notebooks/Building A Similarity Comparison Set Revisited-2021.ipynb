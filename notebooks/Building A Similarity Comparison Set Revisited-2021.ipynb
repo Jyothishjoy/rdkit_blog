{
 "cells": [
  {
   "cell_type": "markdown",
   "metadata": {},
   "source": [
    "# Building a Similarity Comparison Set, Revisited 2021\n",
    "\n",
    "Goal: construct a set of molecular pairs that can be used to compare similarity methods to each other.\n",
    "\n",
    "Update from http://rdkit.blogspot.com/2016/04/revisiting-similarity-comparison-set.html\n",
    "The earlier version of this notebook (http://rdkit.blogspot.ch/2013/10/building-similarity-comparison-set-goal.html or https://github.com/greglandrum/rdkit_blog/blob/master/notebooks/Building%20A%20Similarity%20Comparison%20Set.ipynb)included a number of molecules that have counterions (from salts). Because this isn't really what we're interested in (and because the single-atom fragments that make up many salts triggered a bug in the RDKit's Morgan fingerprint implementation), I repeat the analysis here and restrict it to single-fragment molecules (those that do not include a `.` in the SMILES).\n",
    "\n",
    "The other big difference from the previous post is that an updated version of ChEMBL is used; this time it's ChEMBL21.\n",
    "\n",
    "I want to start with molecules that have some connection to each other, so I will pick pairs that have a baseline similarity: a Tanimoto similarity using count based Morgan0 fingerprints of at least 0.7. I also create a second set of somewhat more closely related molecules where the baseline similarity is 0.6 with a Morgan1 fingerprint. Both thresholds were selected empirically.\n",
    "\n",
    "**Note:** this notebook and the data it uses/generates can be found in the github repo: https://github.com/greglandrum/rdkit_blog"
   ]
  },
  {
   "cell_type": "markdown",
   "metadata": {},
   "source": [
    "I'm going to use ChEMBL as my data source, so I'll start by adding a table with Morgan0 fingerprints that only contains molecules with molwt<=600 and a single fragment (we recognize this because there is no '.' in the SMILES):\n",
    "\n",
    "    chembl_21=# select molregno,morgan_fp(m,0) mfp0 into table rdk.tfps_smaller from rdk.mols \n",
    "    join compound_properties using (molregno) \n",
    "    join compound_structures using (molregno) \n",
    "    where mw_monoisotopic<=600 and canonical_smiles not like '%.%';\n",
    "    SELECT 1372487\n",
    "    chembl_21=# create index sfps_mfp0_idx on rdk.tfps_smaller using gist(mfp0);\n",
    "    CREATE INDEX\n",
    "   "
   ]
  },
  {
   "cell_type": "markdown",
   "metadata": {},
   "source": [
    "And now I'll build the set of pairs using Python. This is definitely doable in SQL, but my SQL-fu isn't that strong.\n",
    "\n",
    "Start by getting a set of 35K random small molecules with MW<=600:"
   ]
  },
  {
   "cell_type": "code",
   "execution_count": 1,
   "metadata": {},
   "outputs": [
    {
     "name": "stdout",
     "output_type": "stream",
     "text": [
      "2021.03.1\n",
      "Sun May 16 07:37:35 2021\n"
     ]
    }
   ],
   "source": [
    "from rdkit import Chem\n",
    "from rdkit import rdBase\n",
    "print(rdBase.rdkitVersion)\n",
    "import time\n",
    "print(time.asctime())"
   ]
  },
  {
   "cell_type": "code",
   "execution_count": 36,
   "metadata": {},
   "outputs": [],
   "source": [
    "import psycopg2\n",
    "cn = psycopg2.connect(host='localhost',dbname='chembl_28')\n",
    "curs = cn.cursor()\n",
    "curs.execute(\"select chembl_id,m from rdk.mols join rdk.tfps_smaller using (molregno)\"\n",
    "             \" join chembl_id_lookup on (molregno=entity_id and entity_type='COMPOUND')\"\n",
    "             \" order by random() limit 35000\")\n",
    "qs = curs.fetchall()"
   ]
  },
  {
   "cell_type": "markdown",
   "metadata": {},
   "source": [
    "And now find one neighbor for 25K of those from the mfp0 table of smallish molecules:"
   ]
  },
  {
   "cell_type": "code",
   "execution_count": 37,
   "metadata": {},
   "outputs": [
    {
     "name": "stdout",
     "output_type": "stream",
     "text": [
      "Done: 0\n",
      "Done: 1000\n",
      "Done: 2000\n",
      "Done: 3000\n",
      "Done: 4000\n",
      "Done: 5000\n",
      "Done: 6000\n",
      "Done: 7000\n",
      "Done: 8000\n",
      "Done: 9000\n",
      "Done: 10000\n",
      "Done: 11000\n",
      "Done: 12000\n",
      "Done: 13000\n",
      "Done: 14000\n",
      "Done: 15000\n",
      "Done: 16000\n",
      "Done: 17000\n",
      "Done: 18000\n",
      "Done: 19000\n",
      "Done: 20000\n",
      "Done: 21000\n",
      "Done: 22000\n",
      "Done: 23000\n",
      "Done: 24000\n",
      "Done: 25000\n"
     ]
    }
   ],
   "source": [
    "cn.rollback()\n",
    "curs.execute('set rdkit.tanimoto_threshold=0.7')\n",
    "\n",
    "keep=[]\n",
    "for i,row in enumerate(qs):\n",
    "    curs.execute(\"select chembl_id,m from rdk.mols join (select chembl_id,molregno from rdk.tfps_smaller \"\n",
    "                 \"join chembl_id_lookup on (molregno=entity_id and entity_type='COMPOUND') \"\n",
    "                 \"where mfp0%%morgan_fp(%s,0) \"\n",
    "                 \"and chembl_id!=%s limit 1) t2 using (molregno)\",(row[1],row[0]))\n",
    "    d = curs.fetchone()\n",
    "    if not d: continue\n",
    "    keep.append((row[0],row[1],d[0],d[1]))\n",
    "    if len(keep)==25000: break\n",
    "    if not i%1000: print('Done: %d'%i)\n"
   ]
  },
  {
   "cell_type": "markdown",
   "metadata": {},
   "source": [
    "Finally, write those out to a file so that we can use them elsewhere:"
   ]
  },
  {
   "cell_type": "code",
   "execution_count": 38,
   "metadata": {},
   "outputs": [],
   "source": [
    "import gzip\n",
    "outf = gzip.open('../data/chembl28_25K.pairs.txt.gz','wb+')\n",
    "for cid1,smi1,cid2,smi2 in keep: outf.write(f'{cid1}\\t{smi1}\\t{cid2}\\t{smi2}\\n'.encode('UTF-8'))\n",
    "outf=None\n"
   ]
  },
  {
   "cell_type": "code",
   "execution_count": 39,
   "metadata": {},
   "outputs": [
    {
     "name": "stdout",
     "output_type": "stream",
     "text": [
      "CHEMBL3448871\tCN(C)C(=O)CN1CCC2(CC1)C[C@@H](O)[C@H](c1ccccc1)NC2=O\tCHEMBL3547849\tCN1C[C@@H](C(=O)N(C)C)[C@@]2(CCc3ccccc3C(=O)N2)C1\r\n",
      "CHEMBL159874\tCCN1CC(=O)N(c2ccc(C)cc2C)C1=S\tCHEMBL3438192\tCCN1CCC(=O)N(C)Cc2cc(F)ccc21\r\n",
      "CHEMBL1495377\tCCOC(=O)C(=O)Nc1nc(-c2ccc3c(c2)CCN3C(=O)C2CC2)c(C)s1\tCHEMBL3409151\tCCCCn1cc(C(=O)NC2CCCC2)c(=O)c2cccc(OC)c21\r\n",
      "CHEMBL3099949\tNC(=O)Nc1ccccc1OC[C@@H](O)CN1CCC2(CC1)Cc1cc(Cl)ccc1O2\tCHEMBL3906956\tNc1ncnc(N2CCC(N)(C(=O)N[C@@H](CCO)c3ccc(Cl)cc3)CC2)c1Cl\r\n",
      "CHEMBL488412\tCC[C@H]1C[C@H]2C[C@@]3(C(=O)OC)c4[nH]c5ccccc5c4CCN(C2=O)[C@@H]13\tCHEMBL3547849\tCN1C[C@@H](C(=O)N(C)C)[C@@]2(CCc3ccccc3C(=O)N2)C1\r\n",
      "CHEMBL4446195\tCCN(CC)c1ccc(C=O)c(OCc2cn(CCCOc3ccc4ccc(=O)oc4c3)nn2)c1\tCHEMBL3547120\tCN(CCCCCN1C(=O)c2ccccc2C1=O)Cc1ccccc1\r\n",
      "CHEMBL64560\tClc1ncc[nH]1\tCHEMBL293391\tCc1ncc[nH]1\r\n",
      "CHEMBL3487260\tCc1nccc(CN2CCC(c3nnsc3S(C)(=O)=O)CC2)n1\tCHEMBL3466761\tCc1nc(S(=O)(=O)CCn2cccn2)n(C2CCCCC2)c1C\r\n",
      "CHEMBL4547889\tCOC1NC(=N)CC(=O)N1\tCHEMBL2229111\tC[C@@H]1NC(=O)CNC1=O\r\n",
      "CHEMBL3692987\tCOc1cc(S(=O)(=O)c2ccc(C3CCOC3)cc2)cc2c3c(oc12)CCNC3\tCHEMBL3940639\tO=C1NCCc2[nH]c(-c3cccc4ccc(O[C@@H]5CCCNC5)nc34)cc21\r\n",
      "\r\n",
      "gzip: stdout: Broken pipe\r\n"
     ]
    }
   ],
   "source": [
    "!zcat ../data/chembl28_25K.pairs.txt.gz | head"
   ]
  },
  {
   "cell_type": "markdown",
   "metadata": {},
   "source": [
    "# Try molecules that are a bit more similar.\n",
    "Use a similarity threshold for the pairs using MFP1 bits."
   ]
  },
  {
   "cell_type": "markdown",
   "metadata": {},
   "source": [
    "As above, start by adding a table with Morgan1 fingerprints for the smaller molecules:\n",
    "\n",
    "    chembl_21=# select molregno,morgan_fp(m,1) mfp1 into table rdk.tfps1_smaller from rdk.mols \n",
    "    join compound_properties using (molregno) \n",
    "    join compound_structures using (molregno) \n",
    "    where mw_monoisotopic<=600 and canonical_smiles not like '%.%';\n",
    "    SELECT 1372487\n",
    "    chembl_21=# create index sfps_mfp1_idx on rdk.tfps1_smaller using gist(mfp1);\n",
    "    CREATE INDEX\n",
    "   "
   ]
  },
  {
   "cell_type": "code",
   "execution_count": 40,
   "metadata": {},
   "outputs": [],
   "source": [
    "cn = psycopg2.connect(host='localhost',dbname='chembl_28')\n",
    "curs = cn.cursor()\n",
    "curs.execute(\"select chembl_id,m from rdk.mols join rdk.tfps1_smaller using (molregno)\"\n",
    "             \" join chembl_id_lookup on (molregno=entity_id and entity_type='COMPOUND')\"\n",
    "             \" order by random() limit 35000\")\n",
    "qs = curs.fetchall()"
   ]
  },
  {
   "cell_type": "code",
   "execution_count": 41,
   "metadata": {},
   "outputs": [
    {
     "name": "stdout",
     "output_type": "stream",
     "text": [
      "Done: 0\n",
      "Done: 1000\n",
      "Done: 2000\n",
      "Done: 3000\n",
      "Done: 4000\n",
      "Done: 5000\n",
      "Done: 6000\n",
      "Done: 7000\n",
      "Done: 8000\n",
      "Done: 9000\n",
      "Done: 10000\n",
      "Done: 11000\n",
      "Done: 12000\n",
      "Done: 13000\n",
      "Done: 14000\n",
      "Done: 15000\n",
      "Done: 16000\n",
      "Done: 17000\n",
      "Done: 18000\n",
      "Done: 19000\n",
      "Done: 20000\n",
      "Done: 21000\n",
      "Done: 22000\n",
      "Done: 23000\n",
      "Done: 24000\n",
      "Done: 25000\n"
     ]
    }
   ],
   "source": [
    "cn.rollback()\n",
    "curs.execute('set rdkit.tanimoto_threshold=0.6')\n",
    "\n",
    "keep=[]\n",
    "for i,row in enumerate(qs):\n",
    "    curs.execute(\"select chembl_id,m from rdk.mols join (select chembl_id,molregno from rdk.tfps1_smaller \"\n",
    "                 \"join chembl_id_lookup on (molregno=entity_id and entity_type='COMPOUND') \"\n",
    "                 \"where mfp1%%morgan_fp(%s,1) \"\n",
    "                 \"and chembl_id!=%s limit 1) t2 using (molregno)\",(row[1],row[0]))\n",
    "    d = curs.fetchone()\n",
    "    if not d: continue\n",
    "    keep.append((row[0],row[1],d[0],d[1]))\n",
    "    if len(keep)==25000: break\n",
    "    if not i%1000: print('Done: %d'%i)\n"
   ]
  },
  {
   "cell_type": "code",
   "execution_count": 42,
   "metadata": {},
   "outputs": [],
   "source": [
    "import gzip\n",
    "outf = gzip.open('../data/chembl28_25K.mfp1.pairs.txt.gz','wb+')\n",
    "for cid1,smi1,cid2,smi2 in keep: outf.write(f'{cid1}\\t{smi1}\\t{cid2}\\t{smi2}\\n'.encode('UTF-8'))\n",
    "outf=None\n"
   ]
  },
  {
   "cell_type": "code",
   "execution_count": 43,
   "metadata": {},
   "outputs": [],
   "source": [
    "with gzip.open('/scratch/cheminformatics_datasets/files/chembl28_25K.mfp1.pairs.txt.gz','wt+') as outf:\n",
    "    outf.write('pair_index\\tchembl_id\\tsmiles\\n')\n",
    "    for i,(cid1,smi1,cid2,smi2) in enumerate(keep):\n",
    "        outf.write(f'Pair{i+1}\\t{cid1}\\t{smi1}\\n')\n",
    "        outf.write(f'Pair{i+1}\\t{cid2}\\t{smi2}\\n')"
   ]
  }
 ],
 "metadata": {
  "kernelspec": {
   "display_name": "Python 3",
   "language": "python",
   "name": "python3"
  },
  "language_info": {
   "codemirror_mode": {
    "name": "ipython",
    "version": 3
   },
   "file_extension": ".py",
   "mimetype": "text/x-python",
   "name": "python",
   "nbconvert_exporter": "python",
   "pygments_lexer": "ipython3",
   "version": "3.9.4"
  },
  "toc": {
   "base_numbering": 1,
   "nav_menu": {},
   "number_sections": true,
   "sideBar": true,
   "skip_h1_title": false,
   "title_cell": "Table of Contents",
   "title_sidebar": "Contents",
   "toc_cell": false,
   "toc_position": {},
   "toc_section_display": true,
   "toc_window_display": false
  }
 },
 "nbformat": 4,
 "nbformat_minor": 1
}
