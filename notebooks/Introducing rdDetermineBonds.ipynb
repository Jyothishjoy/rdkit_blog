{
 "cells": [
  {
   "cell_type": "markdown",
   "id": "3ee4c336",
   "metadata": {},
   "source": [
    "One of the problems with using the results from quantum chemical calculations with the RDKit is that typical QM output formats just include atoms and their positions: since the calculations don't need bond orders, they don't show up in the output.\n",
    "The problem of assigning correct bond orders to the atoms in a molecule based solely on atomic positions (and the overall charge on the molecule) is a non-trivial one, and we've never had a good answer in the RDKit.\n",
    "\n",
    "A few years ago Jan Jensen and his group published `xyz2mol`, an open-source, RDKit-based solution to this problem written in Python: https://github.com/jensengroup/xyz2mol. During this year's Google Summer of Code, Sreya Gogineni, did a C++ port of the Python code and integrated it into the RDKit core for the 2022.09 release. This post is a quick introduction to how to use that code."
   ]
  },
  {
   "cell_type": "code",
   "execution_count": 1,
   "id": "1327e840",
   "metadata": {},
   "outputs": [
    {
     "data": {
      "text/plain": [
       "'2022.09.1'"
      ]
     },
     "execution_count": 1,
     "metadata": {},
     "output_type": "execute_result"
    }
   ],
   "source": [
    "from rdkit import Chem\n",
    "from rdkit.Chem.Draw import IPythonConsole\n",
    "IPythonConsole.ipython_3d = True\n",
    "import rdkit\n",
    "rdkit.__version__"
   ]
  },
  {
   "cell_type": "markdown",
   "id": "08fc07a8",
   "metadata": {},
   "source": [
    "To get some testing files, I downloaded some structures from the (QM9 dataset)[https://figshare.com/collections/Quantum_chemistry_structures_and_properties_of_134_kilo_molecules/978904]. Here's what those look like: "
   ]
  },
  {
   "cell_type": "code",
   "execution_count": 3,
   "id": "fe6c18ba",
   "metadata": {
    "scrolled": true
   },
   "outputs": [
    {
     "name": "stdout",
     "output_type": "stream",
     "text": [
      "19\n",
      "gdb 107313\t2.67642\t1.59305\t1.14971\t3.3443\t81.12\t-0.2359\t-0.0506\t0.1853\t1106.1507\t0.159794\t-385.918216\t-385.909962\t-385.909018\t-385.950934\t31.892\t\n",
      "C\t 0.0645055554\t 1.4843171326\t 0.3723315122\t-0.379845\n",
      "C\t-0.001915467\t 0.0516984051\t-0.1729357038\t-0.277772\n",
      "C\t-1.4001624807\t-0.5304376801\t-0.1487075838\t 0.233551\n",
      "C\t-1.9909553844\t-1.0379429662\t 1.1601625215\t-0.307513\n",
      "C\t-1.7182271444\t-1.9962888369\t 0.0152208454\t-0.158294\n",
      "C\t-2.905416575\t-2.2627721735\t-0.8489696604\t-0.065615\n",
      "C\t-3.3347497536\t-1.1525477782\t-1.4661914556\t-0.191532\n",
      "C\t-2.4353480328\t-0.0114763902\t-1.1388331005\t 0.336742\n",
      "O\t-2.4853518918\t 1.1093228549\t-1.595794586\t-0.340877\n",
      "H\t 1.0876615149\t 1.8699729825\t 0.3263064541\t 0.106173\n",
      "H\t-0.5836533924\t 2.142053447\t-0.2101812431\t 0.152698\n",
      "H\t-0.2626541721\t 1.5210712578\t 1.4170099662\t 0.108877\n",
      "H\t 0.3710335675\t 0.0343653078\t-1.2041622283\t 0.107526\n",
      "H\t 0.662791197\t-0.6008609283\t 0.4071642198\t 0.091428\n",
      "H\t-1.3142481944\t-1.0584396879\t 2.0096409673\t 0.122076\n",
      "H\t-3.0252533013\t-0.8199288984\t 1.4038330438\t 0.125348\n",
      "H\t-0.9412329872\t-2.7436632889\t 0.1278385726\t 0.101319\n",
      "H\t-3.37329736\t-3.2394582332\t-0.9072563749\t 0.118603\n",
      "H\t-4.2004762777\t-1.0463782959\t-2.1061677066\t 0.117109\n",
      "88.1998\t132.6788\t204.3282\t214.9254\t283.2151\t320.8425\t354.2003\t451.4683\t471.7609\t631.475\t661.0085\t735.6532\t750.9738\t778.4916\t839.8756\t849.5692\t876.8931\t897.9162\t967.6602\t980.1789\t992.0568\t1026.4327\t1049.1839\t1072.0692\t1075.099\t1111.0662\t1128.3577\t1138.5104\t1233.4573\t1265.5356\t1338.63\t1352.428\t1365.7919\t1389.2764\t1408.176\t1477.5353\t1487.9659\t1495.4859\t1514.6888\t1630.2685\t1799.8365\t3021.0204\t3038.158\t3057.8354\t3101.9102\t3122.4464\t3138.2864\t3177.3129\t3193.7776\t3214.9261\t3232.806\n",
      "CCC12CC1C=CC2=O\tCC[C@]12C[C@H]1C=CC2=O\t\n",
      "InChI=1S/C8H10O/c1-2-8-5-6(8)3-4-7(8)9/h3-4,6H,2,5H2,1H3\tInChI=1S/C8H10O/c1-2-8-5-6(8)3-4-7(8)9/h3-4,6H,2,5H2,1H3/t6-,8+/m1/s1\n"
     ]
    }
   ],
   "source": [
    "!cat ../data/dsgdb9nsd_107313.xyz"
   ]
  },
  {
   "cell_type": "markdown",
   "id": "b49d3be8",
   "metadata": {},
   "source": [
    "Sreya also added an XYZ file format parser to the RDKit, but these files include a bunch of additional information that we need to strip out. Here's the code for that:"
   ]
  },
  {
   "cell_type": "code",
   "execution_count": 4,
   "id": "8b3d7230",
   "metadata": {},
   "outputs": [],
   "source": [
    "# the XYZ files from QM9 aren't really XYZ... clean them up:\n",
    "def cleanup_qm9_xyz(fname):\n",
    "    ind = open(fname).readlines()\n",
    "    nAts = int(ind[0])\n",
    "    smi = ind[-2].split()[-1]\n",
    "    ind[1] = '\\n'\n",
    "    ind = ind[:nAts+2]\n",
    "    for i in range(2,nAts+2):\n",
    "        l = ind[i]\n",
    "        l = l.split('\\t')\n",
    "        l.pop(-1)\n",
    "        ind[i] = '\\t'.join(l)+'\\n'\n",
    "    ind = ''.join(ind)\n",
    "    return ind,smi"
   ]
  },
  {
   "cell_type": "code",
   "execution_count": 6,
   "id": "8ca4107b",
   "metadata": {},
   "outputs": [
    {
     "name": "stdout",
     "output_type": "stream",
     "text": [
      "19\n",
      "\n",
      "C\t 0.0645055554\t 1.4843171326\t 0.3723315122\n",
      "C\t-0.001915467\t 0.0516984051\t-0.1729357038\n",
      "C\t-1.4001624807\t-0.5304376801\t-0.1487075838\n",
      "C\t-1.9909553844\t-1.0379429662\t 1.1601625215\n",
      "C\t-1.7182271444\t-1.9962888369\t 0.0152208454\n",
      "C\t-2.905416575\t-2.2627721735\t-0.8489696604\n",
      "C\t-3.3347497536\t-1.1525477782\t-1.4661914556\n",
      "C\t-2.4353480328\t-0.0114763902\t-1.1388331005\n",
      "O\t-2.4853518918\t 1.1093228549\t-1.595794586\n",
      "H\t 1.0876615149\t 1.8699729825\t 0.3263064541\n",
      "H\t-0.5836533924\t 2.142053447\t-0.2101812431\n",
      "H\t-0.2626541721\t 1.5210712578\t 1.4170099662\n",
      "H\t 0.3710335675\t 0.0343653078\t-1.2041622283\n",
      "H\t 0.662791197\t-0.6008609283\t 0.4071642198\n",
      "H\t-1.3142481944\t-1.0584396879\t 2.0096409673\n",
      "H\t-3.0252533013\t-0.8199288984\t 1.4038330438\n",
      "H\t-0.9412329872\t-2.7436632889\t 0.1278385726\n",
      "H\t-3.37329736\t-3.2394582332\t-0.9072563749\n",
      "H\t-4.2004762777\t-1.0463782959\t-2.1061677066\n",
      "\n"
     ]
    }
   ],
   "source": [
    "ind,smi = cleanup_qm9_xyz('../data/dsgdb9nsd_107313.xyz')\n",
    "print(ind)\n"
   ]
  },
  {
   "cell_type": "markdown",
   "id": "a315eee3",
   "metadata": {},
   "source": [
    "And now we can construct a molecule:"
   ]
  },
  {
   "cell_type": "code",
   "execution_count": 18,
   "id": "b088bbbb",
   "metadata": {},
   "outputs": [
    {
     "name": "stdout",
     "output_type": "stream",
     "text": [
      "15 0\n"
     ]
    }
   ],
   "source": [
    "raw_mol = Chem.MolFromXYZBlock(ind)\n",
    "print(raw_mol.GetNumAtoms(),raw_mol.GetNumBonds())"
   ]
  },
  {
   "cell_type": "markdown",
   "id": "6a28c374",
   "metadata": {},
   "source": [
    "Of course that doesn't yet have bonds. Let's fix that."
   ]
  },
  {
   "cell_type": "markdown",
   "id": "6f6d9179",
   "metadata": {},
   "source": [
    "Start with `rdDetermineBonds.DetermineConnectivity()`, this uses distances between atoms to determine where there should be bonds, but does not attempt to figure out bond orders."
   ]
  },
  {
   "cell_type": "code",
   "execution_count": 10,
   "id": "7eaad387",
   "metadata": {},
   "outputs": [
    {
     "data": {
      "application/3dmoljs_load.v0": "<div id=\"3dmolviewer_16712982283681974\"  style=\"position: relative; width: 400px; height: 400px\">\n        <p id=\"3dmolwarning_16712982283681974\" style=\"background-color:#ffcccc;color:black\">You appear to be running in JupyterLab (or JavaScript failed to load for some other reason).  You need to install the 3dmol extension: <br>\n        <tt>jupyter labextension install jupyterlab_3dmol</tt></p>\n        </div>\n<script>\n\nvar loadScriptAsync = function(uri){\n  return new Promise((resolve, reject) => {\n    var tag = document.createElement('script');\n    tag.src = uri;\n    tag.async = true;\n    tag.onload = () => {\n      resolve();\n    };\n  var firstScriptTag = document.getElementsByTagName('script')[0];\n  firstScriptTag.parentNode.insertBefore(tag, firstScriptTag);\n});\n};\n\nif(typeof $3Dmolpromise === 'undefined') {\n$3Dmolpromise = null;\n  $3Dmolpromise = loadScriptAsync('https://cdn.jsdelivr.net/npm/3dmol@latest/build/3Dmol-min.min.js');\n}\n\nvar viewer_16712982283681974 = null;\nvar warn = document.getElementById(\"3dmolwarning_16712982283681974\");\nif(warn) {\n    warn.parentNode.removeChild(warn);\n}\n$3Dmolpromise.then(function() {\nviewer_16712982283681974 = $3Dmol.createViewer($(\"#3dmolviewer_16712982283681974\"),{backgroundColor:\"white\"});\nviewer_16712982283681974.zoomTo();\n\tviewer_16712982283681974.removeAllModels();\n\tviewer_16712982283681974.addModel(\"\\n     RDKit          3D\\n\\n 19 20  0  0  0  0  0  0  0  0999 V2000\\n    0.0645    1.4843    0.3723 C   0  0  0  0  0  0  0  0  0  0  0  0\\n   -0.0019    0.0517   -0.1729 C   0  0  0  0  0  0  0  0  0  0  0  0\\n   -1.4002   -0.5304   -0.1487 C   0  0  0  0  0  0  0  0  0  0  0  0\\n   -1.9910   -1.0379    1.1602 C   0  0  0  0  0  0  0  0  0  0  0  0\\n   -1.7182   -1.9963    0.0152 C   0  0  0  0  0  0  0  0  0  0  0  0\\n   -2.9054   -2.2628   -0.8490 C   0  0  0  0  0  3  0  0  0  0  0  0\\n   -3.3347   -1.1525   -1.4662 C   0  0  0  0  0  3  0  0  0  0  0  0\\n   -2.4353   -0.0115   -1.1388 C   0  0  0  0  0  3  0  0  0  0  0  0\\n   -2.4854    1.1093   -1.5958 O   0  0  0  0  0  1  0  0  0  0  0  0\\n    1.0877    1.8700    0.3263 H   0  0  0  0  0  0  0  0  0  0  0  0\\n   -0.5837    2.1421   -0.2102 H   0  0  0  0  0  0  0  0  0  0  0  0\\n   -0.2627    1.5211    1.4170 H   0  0  0  0  0  0  0  0  0  0  0  0\\n    0.3710    0.0344   -1.2042 H   0  0  0  0  0  0  0  0  0  0  0  0\\n    0.6628   -0.6009    0.4072 H   0  0  0  0  0  0  0  0  0  0  0  0\\n   -1.3142   -1.0584    2.0096 H   0  0  0  0  0  0  0  0  0  0  0  0\\n   -3.0253   -0.8199    1.4038 H   0  0  0  0  0  0  0  0  0  0  0  0\\n   -0.9412   -2.7437    0.1278 H   0  0  0  0  0  0  0  0  0  0  0  0\\n   -3.3733   -3.2395   -0.9073 H   0  0  0  0  0  0  0  0  0  0  0  0\\n   -4.2005   -1.0464   -2.1062 H   0  0  0  0  0  0  0  0  0  0  0  0\\n  1  2  1  0\\n  1 10  1  0\\n  1 11  1  0\\n  1 12  1  0\\n  2  3  1  0\\n  2 13  1  0\\n  2 14  1  0\\n  3  4  1  0\\n  3  5  1  0\\n  3  8  1  0\\n  4  5  1  0\\n  4 15  1  0\\n  4 16  1  0\\n  5  6  1  0\\n  5 17  1  0\\n  6  7  1  0\\n  6 18  1  0\\n  7  8  1  0\\n  7 19  1  0\\n  8  9  1  0\\nM  END\\n\",\"sdf\");\n\tviewer_16712982283681974.setStyle({\"stick\": {}});\n\tviewer_16712982283681974.setBackgroundColor(\"0xeeeeee\");\n\tviewer_16712982283681974.zoomTo();\nviewer_16712982283681974.render();\n});\n</script>",
      "text/html": [
       "<div id=\"3dmolviewer_16712982283681974\"  style=\"position: relative; width: 400px; height: 400px\">\n",
       "        <p id=\"3dmolwarning_16712982283681974\" style=\"background-color:#ffcccc;color:black\">You appear to be running in JupyterLab (or JavaScript failed to load for some other reason).  You need to install the 3dmol extension: <br>\n",
       "        <tt>jupyter labextension install jupyterlab_3dmol</tt></p>\n",
       "        </div>\n",
       "<script>\n",
       "\n",
       "var loadScriptAsync = function(uri){\n",
       "  return new Promise((resolve, reject) => {\n",
       "    var tag = document.createElement('script');\n",
       "    tag.src = uri;\n",
       "    tag.async = true;\n",
       "    tag.onload = () => {\n",
       "      resolve();\n",
       "    };\n",
       "  var firstScriptTag = document.getElementsByTagName('script')[0];\n",
       "  firstScriptTag.parentNode.insertBefore(tag, firstScriptTag);\n",
       "});\n",
       "};\n",
       "\n",
       "if(typeof $3Dmolpromise === 'undefined') {\n",
       "$3Dmolpromise = null;\n",
       "  $3Dmolpromise = loadScriptAsync('https://cdn.jsdelivr.net/npm/3dmol@latest/build/3Dmol-min.min.js');\n",
       "}\n",
       "\n",
       "var viewer_16712982283681974 = null;\n",
       "var warn = document.getElementById(\"3dmolwarning_16712982283681974\");\n",
       "if(warn) {\n",
       "    warn.parentNode.removeChild(warn);\n",
       "}\n",
       "$3Dmolpromise.then(function() {\n",
       "viewer_16712982283681974 = $3Dmol.createViewer($(\"#3dmolviewer_16712982283681974\"),{backgroundColor:\"white\"});\n",
       "viewer_16712982283681974.zoomTo();\n",
       "\tviewer_16712982283681974.removeAllModels();\n",
       "\tviewer_16712982283681974.addModel(\"\\n     RDKit          3D\\n\\n 19 20  0  0  0  0  0  0  0  0999 V2000\\n    0.0645    1.4843    0.3723 C   0  0  0  0  0  0  0  0  0  0  0  0\\n   -0.0019    0.0517   -0.1729 C   0  0  0  0  0  0  0  0  0  0  0  0\\n   -1.4002   -0.5304   -0.1487 C   0  0  0  0  0  0  0  0  0  0  0  0\\n   -1.9910   -1.0379    1.1602 C   0  0  0  0  0  0  0  0  0  0  0  0\\n   -1.7182   -1.9963    0.0152 C   0  0  0  0  0  0  0  0  0  0  0  0\\n   -2.9054   -2.2628   -0.8490 C   0  0  0  0  0  3  0  0  0  0  0  0\\n   -3.3347   -1.1525   -1.4662 C   0  0  0  0  0  3  0  0  0  0  0  0\\n   -2.4353   -0.0115   -1.1388 C   0  0  0  0  0  3  0  0  0  0  0  0\\n   -2.4854    1.1093   -1.5958 O   0  0  0  0  0  1  0  0  0  0  0  0\\n    1.0877    1.8700    0.3263 H   0  0  0  0  0  0  0  0  0  0  0  0\\n   -0.5837    2.1421   -0.2102 H   0  0  0  0  0  0  0  0  0  0  0  0\\n   -0.2627    1.5211    1.4170 H   0  0  0  0  0  0  0  0  0  0  0  0\\n    0.3710    0.0344   -1.2042 H   0  0  0  0  0  0  0  0  0  0  0  0\\n    0.6628   -0.6009    0.4072 H   0  0  0  0  0  0  0  0  0  0  0  0\\n   -1.3142   -1.0584    2.0096 H   0  0  0  0  0  0  0  0  0  0  0  0\\n   -3.0253   -0.8199    1.4038 H   0  0  0  0  0  0  0  0  0  0  0  0\\n   -0.9412   -2.7437    0.1278 H   0  0  0  0  0  0  0  0  0  0  0  0\\n   -3.3733   -3.2395   -0.9073 H   0  0  0  0  0  0  0  0  0  0  0  0\\n   -4.2005   -1.0464   -2.1062 H   0  0  0  0  0  0  0  0  0  0  0  0\\n  1  2  1  0\\n  1 10  1  0\\n  1 11  1  0\\n  1 12  1  0\\n  2  3  1  0\\n  2 13  1  0\\n  2 14  1  0\\n  3  4  1  0\\n  3  5  1  0\\n  3  8  1  0\\n  4  5  1  0\\n  4 15  1  0\\n  4 16  1  0\\n  5  6  1  0\\n  5 17  1  0\\n  6  7  1  0\\n  6 18  1  0\\n  7  8  1  0\\n  7 19  1  0\\n  8  9  1  0\\nM  END\\n\",\"sdf\");\n",
       "\tviewer_16712982283681974.setStyle({\"stick\": {}});\n",
       "\tviewer_16712982283681974.setBackgroundColor(\"0xeeeeee\");\n",
       "\tviewer_16712982283681974.zoomTo();\n",
       "viewer_16712982283681974.render();\n",
       "});\n",
       "</script>"
      ]
     },
     "metadata": {},
     "output_type": "display_data"
    },
    {
     "data": {
      "image/png": "[encoded data removed]",
      "text/html": [],
      "text/plain": [
       "<rdkit.Chem.rdchem.Mol at 0x243a6191620>"
      ]
     },
     "execution_count": 10,
     "metadata": {},
     "output_type": "execute_result"
    }
   ],
   "source": [
    "from rdkit.Chem import rdDetermineBonds\n",
    "conn_mol = Chem.Mol(raw_mol)\n",
    "rdDetermineBonds.DetermineConnectivity(conn_mol)\n",
    "conn_mol\n"
   ]
  },
  {
   "cell_type": "markdown",
   "id": "904ae251",
   "metadata": {},
   "source": [
    "Now we can use `rdDetermineBonds.DetermineBondOrders()` to figure out what the bond orders should be.\n",
    "\n",
    "This requires the overall charge on the molecule (the default value of the charge is zero, so it's not technically necessary to provide it here, but we do so to be clear):"
   ]
  },
  {
   "cell_type": "code",
   "execution_count": 11,
   "id": "226787e3",
   "metadata": {
    "collapsed": true
   },
   "outputs": [
    {
     "data": {
      "application/3dmoljs_load.v0": "<div id=\"3dmolviewer_16712982667245748\"  style=\"position: relative; width: 400px; height: 400px\">\n        <p id=\"3dmolwarning_16712982667245748\" style=\"background-color:#ffcccc;color:black\">You appear to be running in JupyterLab (or JavaScript failed to load for some other reason).  You need to install the 3dmol extension: <br>\n        <tt>jupyter labextension install jupyterlab_3dmol</tt></p>\n        </div>\n<script>\n\nvar loadScriptAsync = function(uri){\n  return new Promise((resolve, reject) => {\n    var tag = document.createElement('script');\n    tag.src = uri;\n    tag.async = true;\n    tag.onload = () => {\n      resolve();\n    };\n  var firstScriptTag = document.getElementsByTagName('script')[0];\n  firstScriptTag.parentNode.insertBefore(tag, firstScriptTag);\n});\n};\n\nif(typeof $3Dmolpromise === 'undefined') {\n$3Dmolpromise = null;\n  $3Dmolpromise = loadScriptAsync('https://cdn.jsdelivr.net/npm/3dmol@latest/build/3Dmol-min.min.js');\n}\n\nvar viewer_16712982667245748 = null;\nvar warn = document.getElementById(\"3dmolwarning_16712982667245748\");\nif(warn) {\n    warn.parentNode.removeChild(warn);\n}\n$3Dmolpromise.then(function() {\nviewer_16712982667245748 = $3Dmol.createViewer($(\"#3dmolviewer_16712982667245748\"),{backgroundColor:\"white\"});\nviewer_16712982667245748.zoomTo();\n\tviewer_16712982667245748.removeAllModels();\n\tviewer_16712982667245748.addModel(\"\\n     RDKit          3D\\n\\n 19 20  0  0  0  0  0  0  0  0999 V2000\\n    0.0645    1.4843    0.3723 C   0  0  1  0  0  0  0  0  0  0  0  0\\n   -0.0019    0.0517   -0.1729 C   0  0  1  0  0  0  0  0  0  0  0  0\\n   -1.4002   -0.5304   -0.1487 C   0  0  2  0  0  0  0  0  0  0  0  0\\n   -1.9910   -1.0379    1.1602 C   0  0  1  0  0  0  0  0  0  0  0  0\\n   -1.7182   -1.9963    0.0152 C   0  0  1  0  0  0  0  0  0  0  0  0\\n   -2.9054   -2.2628   -0.8490 C   0  0  0  0  0  0  0  0  0  0  0  0\\n   -3.3347   -1.1525   -1.4662 C   0  0  0  0  0  0  0  0  0  0  0  0\\n   -2.4353   -0.0115   -1.1388 C   0  0  0  0  0  0  0  0  0  0  0  0\\n   -2.4854    1.1093   -1.5958 O   0  0  0  0  0  0  0  0  0  0  0  0\\n    1.0877    1.8700    0.3263 H   0  0  0  0  0  0  0  0  0  0  0  0\\n   -0.5837    2.1421   -0.2102 H   0  0  0  0  0  0  0  0  0  0  0  0\\n   -0.2627    1.5211    1.4170 H   0  0  0  0  0  0  0  0  0  0  0  0\\n    0.3710    0.0344   -1.2042 H   0  0  0  0  0  0  0  0  0  0  0  0\\n    0.6628   -0.6009    0.4072 H   0  0  0  0  0  0  0  0  0  0  0  0\\n   -1.3142   -1.0584    2.0096 H   0  0  0  0  0  0  0  0  0  0  0  0\\n   -3.0253   -0.8199    1.4038 H   0  0  0  0  0  0  0  0  0  0  0  0\\n   -0.9412   -2.7437    0.1278 H   0  0  0  0  0  0  0  0  0  0  0  0\\n   -3.3733   -3.2395   -0.9073 H   0  0  0  0  0  0  0  0  0  0  0  0\\n   -4.2005   -1.0464   -2.1062 H   0  0  0  0  0  0  0  0  0  0  0  0\\n  1  2  1  0\\n  1 10  1  1\\n  1 11  1  0\\n  1 12  1  0\\n  2  3  1  0\\n  2 13  1  6\\n  2 14  1  0\\n  3  4  1  0\\n  3  5  1  0\\n  3  8  1  6\\n  4  5  1  0\\n  4 15  1  1\\n  4 16  1  0\\n  5  6  1  0\\n  5 17  1  1\\n  6  7  2  0\\n  6 18  1  0\\n  7  8  1  0\\n  7 19  1  0\\n  8  9  2  0\\nM  END\\n\",\"sdf\");\n\tviewer_16712982667245748.setStyle({\"stick\": {}});\n\tviewer_16712982667245748.setBackgroundColor(\"0xeeeeee\");\n\tviewer_16712982667245748.zoomTo();\nviewer_16712982667245748.render();\n});\n</script>",
      "text/html": [
       "<div id=\"3dmolviewer_16712982667245748\"  style=\"position: relative; width: 400px; height: 400px\">\n",
       "        <p id=\"3dmolwarning_16712982667245748\" style=\"background-color:#ffcccc;color:black\">You appear to be running in JupyterLab (or JavaScript failed to load for some other reason).  You need to install the 3dmol extension: <br>\n",
       "        <tt>jupyter labextension install jupyterlab_3dmol</tt></p>\n",
       "        </div>\n",
       "<script>\n",
       "\n",
       "var loadScriptAsync = function(uri){\n",
       "  return new Promise((resolve, reject) => {\n",
       "    var tag = document.createElement('script');\n",
       "    tag.src = uri;\n",
       "    tag.async = true;\n",
       "    tag.onload = () => {\n",
       "      resolve();\n",
       "    };\n",
       "  var firstScriptTag = document.getElementsByTagName('script')[0];\n",
       "  firstScriptTag.parentNode.insertBefore(tag, firstScriptTag);\n",
       "});\n",
       "};\n",
       "\n",
       "if(typeof $3Dmolpromise === 'undefined') {\n",
       "$3Dmolpromise = null;\n",
       "  $3Dmolpromise = loadScriptAsync('https://cdn.jsdelivr.net/npm/3dmol@latest/build/3Dmol-min.min.js');\n",
       "}\n",
       "\n",
       "var viewer_16712982667245748 = null;\n",
       "var warn = document.getElementById(\"3dmolwarning_16712982667245748\");\n",
       "if(warn) {\n",
       "    warn.parentNode.removeChild(warn);\n",
       "}\n",
       "$3Dmolpromise.then(function() {\n",
       "viewer_16712982667245748 = $3Dmol.createViewer($(\"#3dmolviewer_16712982667245748\"),{backgroundColor:\"white\"});\n",
       "viewer_16712982667245748.zoomTo();\n",
       "\tviewer_16712982667245748.removeAllModels();\n",
       "\tviewer_16712982667245748.addModel(\"\\n     RDKit          3D\\n\\n 19 20  0  0  0  0  0  0  0  0999 V2000\\n    0.0645    1.4843    0.3723 C   0  0  1  0  0  0  0  0  0  0  0  0\\n   -0.0019    0.0517   -0.1729 C   0  0  1  0  0  0  0  0  0  0  0  0\\n   -1.4002   -0.5304   -0.1487 C   0  0  2  0  0  0  0  0  0  0  0  0\\n   -1.9910   -1.0379    1.1602 C   0  0  1  0  0  0  0  0  0  0  0  0\\n   -1.7182   -1.9963    0.0152 C   0  0  1  0  0  0  0  0  0  0  0  0\\n   -2.9054   -2.2628   -0.8490 C   0  0  0  0  0  0  0  0  0  0  0  0\\n   -3.3347   -1.1525   -1.4662 C   0  0  0  0  0  0  0  0  0  0  0  0\\n   -2.4353   -0.0115   -1.1388 C   0  0  0  0  0  0  0  0  0  0  0  0\\n   -2.4854    1.1093   -1.5958 O   0  0  0  0  0  0  0  0  0  0  0  0\\n    1.0877    1.8700    0.3263 H   0  0  0  0  0  0  0  0  0  0  0  0\\n   -0.5837    2.1421   -0.2102 H   0  0  0  0  0  0  0  0  0  0  0  0\\n   -0.2627    1.5211    1.4170 H   0  0  0  0  0  0  0  0  0  0  0  0\\n    0.3710    0.0344   -1.2042 H   0  0  0  0  0  0  0  0  0  0  0  0\\n    0.6628   -0.6009    0.4072 H   0  0  0  0  0  0  0  0  0  0  0  0\\n   -1.3142   -1.0584    2.0096 H   0  0  0  0  0  0  0  0  0  0  0  0\\n   -3.0253   -0.8199    1.4038 H   0  0  0  0  0  0  0  0  0  0  0  0\\n   -0.9412   -2.7437    0.1278 H   0  0  0  0  0  0  0  0  0  0  0  0\\n   -3.3733   -3.2395   -0.9073 H   0  0  0  0  0  0  0  0  0  0  0  0\\n   -4.2005   -1.0464   -2.1062 H   0  0  0  0  0  0  0  0  0  0  0  0\\n  1  2  1  0\\n  1 10  1  1\\n  1 11  1  0\\n  1 12  1  0\\n  2  3  1  0\\n  2 13  1  6\\n  2 14  1  0\\n  3  4  1  0\\n  3  5  1  0\\n  3  8  1  6\\n  4  5  1  0\\n  4 15  1  1\\n  4 16  1  0\\n  5  6  1  0\\n  5 17  1  1\\n  6  7  2  0\\n  6 18  1  0\\n  7  8  1  0\\n  7 19  1  0\\n  8  9  2  0\\nM  END\\n\",\"sdf\");\n",
       "\tviewer_16712982667245748.setStyle({\"stick\": {}});\n",
       "\tviewer_16712982667245748.setBackgroundColor(\"0xeeeeee\");\n",
       "\tviewer_16712982667245748.zoomTo();\n",
       "viewer_16712982667245748.render();\n",
       "});\n",
       "</script>"
      ]
     },
     "metadata": {},
     "output_type": "display_data"
    },
    {
     "data": {
      "image/png": "[encoded data removed]",
      "text/html": [],
      "text/plain": [
       "<rdkit.Chem.rdchem.Mol at 0x243a6191620>"
      ]
     },
     "execution_count": 11,
     "metadata": {},
     "output_type": "execute_result"
    }
   ],
   "source": [
    "rdDetermineBonds.DetermineBondOrders(conn_mol,charge=0)\n",
    "conn_mol"
   ]
  },
  {
   "cell_type": "markdown",
   "id": "c30265b2",
   "metadata": {},
   "source": [
    "We can do both steps in a single call. This is the easiest way to use the code if you just want to look at the final bond orders:"
   ]
  },
  {
   "cell_type": "code",
   "execution_count": 12,
   "id": "38571fd1",
   "metadata": {},
   "outputs": [
    {
     "data": {
      "application/3dmoljs_load.v0": "<div id=\"3dmolviewer_16712984301958692\"  style=\"position: relative; width: 400px; height: 400px\">\n        <p id=\"3dmolwarning_16712984301958692\" style=\"background-color:#ffcccc;color:black\">You appear to be running in JupyterLab (or JavaScript failed to load for some other reason).  You need to install the 3dmol extension: <br>\n        <tt>jupyter labextension install jupyterlab_3dmol</tt></p>\n        </div>\n<script>\n\nvar loadScriptAsync = function(uri){\n  return new Promise((resolve, reject) => {\n    var tag = document.createElement('script');\n    tag.src = uri;\n    tag.async = true;\n    tag.onload = () => {\n      resolve();\n    };\n  var firstScriptTag = document.getElementsByTagName('script')[0];\n  firstScriptTag.parentNode.insertBefore(tag, firstScriptTag);\n});\n};\n\nif(typeof $3Dmolpromise === 'undefined') {\n$3Dmolpromise = null;\n  $3Dmolpromise = loadScriptAsync('https://cdn.jsdelivr.net/npm/3dmol@latest/build/3Dmol-min.min.js');\n}\n\nvar viewer_16712984301958692 = null;\nvar warn = document.getElementById(\"3dmolwarning_16712984301958692\");\nif(warn) {\n    warn.parentNode.removeChild(warn);\n}\n$3Dmolpromise.then(function() {\nviewer_16712984301958692 = $3Dmol.createViewer($(\"#3dmolviewer_16712984301958692\"),{backgroundColor:\"white\"});\nviewer_16712984301958692.zoomTo();\n\tviewer_16712984301958692.removeAllModels();\n\tviewer_16712984301958692.addModel(\"\\n     RDKit          3D\\n\\n 19 20  0  0  0  0  0  0  0  0999 V2000\\n    0.0645    1.4843    0.3723 C   0  0  1  0  0  0  0  0  0  0  0  0\\n   -0.0019    0.0517   -0.1729 C   0  0  1  0  0  0  0  0  0  0  0  0\\n   -1.4002   -0.5304   -0.1487 C   0  0  2  0  0  0  0  0  0  0  0  0\\n   -1.9910   -1.0379    1.1602 C   0  0  1  0  0  0  0  0  0  0  0  0\\n   -1.7182   -1.9963    0.0152 C   0  0  1  0  0  0  0  0  0  0  0  0\\n   -2.9054   -2.2628   -0.8490 C   0  0  0  0  0  0  0  0  0  0  0  0\\n   -3.3347   -1.1525   -1.4662 C   0  0  0  0  0  0  0  0  0  0  0  0\\n   -2.4353   -0.0115   -1.1388 C   0  0  0  0  0  0  0  0  0  0  0  0\\n   -2.4854    1.1093   -1.5958 O   0  0  0  0  0  0  0  0  0  0  0  0\\n    1.0877    1.8700    0.3263 H   0  0  0  0  0  0  0  0  0  0  0  0\\n   -0.5837    2.1421   -0.2102 H   0  0  0  0  0  0  0  0  0  0  0  0\\n   -0.2627    1.5211    1.4170 H   0  0  0  0  0  0  0  0  0  0  0  0\\n    0.3710    0.0344   -1.2042 H   0  0  0  0  0  0  0  0  0  0  0  0\\n    0.6628   -0.6009    0.4072 H   0  0  0  0  0  0  0  0  0  0  0  0\\n   -1.3142   -1.0584    2.0096 H   0  0  0  0  0  0  0  0  0  0  0  0\\n   -3.0253   -0.8199    1.4038 H   0  0  0  0  0  0  0  0  0  0  0  0\\n   -0.9412   -2.7437    0.1278 H   0  0  0  0  0  0  0  0  0  0  0  0\\n   -3.3733   -3.2395   -0.9073 H   0  0  0  0  0  0  0  0  0  0  0  0\\n   -4.2005   -1.0464   -2.1062 H   0  0  0  0  0  0  0  0  0  0  0  0\\n  1  2  1  0\\n  1 10  1  1\\n  1 11  1  0\\n  1 12  1  0\\n  2  3  1  0\\n  2 13  1  6\\n  2 14  1  0\\n  3  4  1  0\\n  3  5  1  0\\n  3  8  1  6\\n  4  5  1  0\\n  4 15  1  1\\n  4 16  1  0\\n  5  6  1  0\\n  5 17  1  1\\n  6  7  2  0\\n  6 18  1  0\\n  7  8  1  0\\n  7 19  1  0\\n  8  9  2  0\\nM  END\\n\",\"sdf\");\n\tviewer_16712984301958692.setStyle({\"stick\": {}});\n\tviewer_16712984301958692.setBackgroundColor(\"0xeeeeee\");\n\tviewer_16712984301958692.zoomTo();\nviewer_16712984301958692.render();\n});\n</script>",
      "text/html": [
       "<div id=\"3dmolviewer_16712984301958692\"  style=\"position: relative; width: 400px; height: 400px\">\n",
       "        <p id=\"3dmolwarning_16712984301958692\" style=\"background-color:#ffcccc;color:black\">You appear to be running in JupyterLab (or JavaScript failed to load for some other reason).  You need to install the 3dmol extension: <br>\n",
       "        <tt>jupyter labextension install jupyterlab_3dmol</tt></p>\n",
       "        </div>\n",
       "<script>\n",
       "\n",
       "var loadScriptAsync = function(uri){\n",
       "  return new Promise((resolve, reject) => {\n",
       "    var tag = document.createElement('script');\n",
       "    tag.src = uri;\n",
       "    tag.async = true;\n",
       "    tag.onload = () => {\n",
       "      resolve();\n",
       "    };\n",
       "  var firstScriptTag = document.getElementsByTagName('script')[0];\n",
       "  firstScriptTag.parentNode.insertBefore(tag, firstScriptTag);\n",
       "});\n",
       "};\n",
       "\n",
       "if(typeof $3Dmolpromise === 'undefined') {\n",
       "$3Dmolpromise = null;\n",
       "  $3Dmolpromise = loadScriptAsync('https://cdn.jsdelivr.net/npm/3dmol@latest/build/3Dmol-min.min.js');\n",
       "}\n",
       "\n",
       "var viewer_16712984301958692 = null;\n",
       "var warn = document.getElementById(\"3dmolwarning_16712984301958692\");\n",
       "if(warn) {\n",
       "    warn.parentNode.removeChild(warn);\n",
       "}\n",
       "$3Dmolpromise.then(function() {\n",
       "viewer_16712984301958692 = $3Dmol.createViewer($(\"#3dmolviewer_16712984301958692\"),{backgroundColor:\"white\"});\n",
       "viewer_16712984301958692.zoomTo();\n",
       "\tviewer_16712984301958692.removeAllModels();\n",
       "\tviewer_16712984301958692.addModel(\"\\n     RDKit          3D\\n\\n 19 20  0  0  0  0  0  0  0  0999 V2000\\n    0.0645    1.4843    0.3723 C   0  0  1  0  0  0  0  0  0  0  0  0\\n   -0.0019    0.0517   -0.1729 C   0  0  1  0  0  0  0  0  0  0  0  0\\n   -1.4002   -0.5304   -0.1487 C   0  0  2  0  0  0  0  0  0  0  0  0\\n   -1.9910   -1.0379    1.1602 C   0  0  1  0  0  0  0  0  0  0  0  0\\n   -1.7182   -1.9963    0.0152 C   0  0  1  0  0  0  0  0  0  0  0  0\\n   -2.9054   -2.2628   -0.8490 C   0  0  0  0  0  0  0  0  0  0  0  0\\n   -3.3347   -1.1525   -1.4662 C   0  0  0  0  0  0  0  0  0  0  0  0\\n   -2.4353   -0.0115   -1.1388 C   0  0  0  0  0  0  0  0  0  0  0  0\\n   -2.4854    1.1093   -1.5958 O   0  0  0  0  0  0  0  0  0  0  0  0\\n    1.0877    1.8700    0.3263 H   0  0  0  0  0  0  0  0  0  0  0  0\\n   -0.5837    2.1421   -0.2102 H   0  0  0  0  0  0  0  0  0  0  0  0\\n   -0.2627    1.5211    1.4170 H   0  0  0  0  0  0  0  0  0  0  0  0\\n    0.3710    0.0344   -1.2042 H   0  0  0  0  0  0  0  0  0  0  0  0\\n    0.6628   -0.6009    0.4072 H   0  0  0  0  0  0  0  0  0  0  0  0\\n   -1.3142   -1.0584    2.0096 H   0  0  0  0  0  0  0  0  0  0  0  0\\n   -3.0253   -0.8199    1.4038 H   0  0  0  0  0  0  0  0  0  0  0  0\\n   -0.9412   -2.7437    0.1278 H   0  0  0  0  0  0  0  0  0  0  0  0\\n   -3.3733   -3.2395   -0.9073 H   0  0  0  0  0  0  0  0  0  0  0  0\\n   -4.2005   -1.0464   -2.1062 H   0  0  0  0  0  0  0  0  0  0  0  0\\n  1  2  1  0\\n  1 10  1  1\\n  1 11  1  0\\n  1 12  1  0\\n  2  3  1  0\\n  2 13  1  6\\n  2 14  1  0\\n  3  4  1  0\\n  3  5  1  0\\n  3  8  1  6\\n  4  5  1  0\\n  4 15  1  1\\n  4 16  1  0\\n  5  6  1  0\\n  5 17  1  1\\n  6  7  2  0\\n  6 18  1  0\\n  7  8  1  0\\n  7 19  1  0\\n  8  9  2  0\\nM  END\\n\",\"sdf\");\n",
       "\tviewer_16712984301958692.setStyle({\"stick\": {}});\n",
       "\tviewer_16712984301958692.setBackgroundColor(\"0xeeeeee\");\n",
       "\tviewer_16712984301958692.zoomTo();\n",
       "viewer_16712984301958692.render();\n",
       "});\n",
       "</script>"
      ]
     },
     "metadata": {},
     "output_type": "display_data"
    },
    {
     "data": {
      "image/png": "[encoded data removed]",
      "text/html": [],
      "text/plain": [
       "<rdkit.Chem.rdchem.Mol at 0x243a6192930>"
      ]
     },
     "execution_count": 12,
     "metadata": {},
     "output_type": "execute_result"
    }
   ],
   "source": [
    "conn_mol = Chem.Mol(raw_mol)\n",
    "rdDetermineBonds.DetermineBonds(conn_mol,charge=0)\n",
    "conn_mol\n"
   ]
  },
  {
   "cell_type": "markdown",
   "id": "24298ded",
   "metadata": {},
   "source": [
    "See if the SMILES we got agrees with the what QM9 says it should be:"
   ]
  },
  {
   "cell_type": "code",
   "execution_count": 15,
   "id": "b5acecdb",
   "metadata": {},
   "outputs": [
    {
     "name": "stdout",
     "output_type": "stream",
     "text": [
      "CC[C@]12C[C@H]1C=CC2=O CC[C@]12C[C@H]1C=CC2=O\n"
     ]
    },
    {
     "data": {
      "text/plain": [
       "True"
      ]
     },
     "execution_count": 15,
     "metadata": {},
     "output_type": "execute_result"
    }
   ],
   "source": [
    "cm = Chem.RemoveHs(conn_mol)\n",
    "osmi = Chem.MolToSmiles(cm)\n",
    "smi = Chem.CanonSmiles(smi)\n",
    "print(osmi,smi)\n",
    "osmi==smi"
   ]
  },
  {
   "cell_type": "markdown",
   "id": "194fe24f",
   "metadata": {},
   "source": [
    "Yep... that's all good."
   ]
  },
  {
   "cell_type": "markdown",
   "id": "2e3ebec0",
   "metadata": {},
   "source": [
    "Let's do another example:"
   ]
  },
  {
   "cell_type": "code",
   "execution_count": 16,
   "id": "d970f330",
   "metadata": {},
   "outputs": [
    {
     "data": {
      "application/3dmoljs_load.v0": "<div id=\"3dmolviewer_16712986021390426\"  style=\"position: relative; width: 400px; height: 400px\">\n        <p id=\"3dmolwarning_16712986021390426\" style=\"background-color:#ffcccc;color:black\">You appear to be running in JupyterLab (or JavaScript failed to load for some other reason).  You need to install the 3dmol extension: <br>\n        <tt>jupyter labextension install jupyterlab_3dmol</tt></p>\n        </div>\n<script>\n\nvar loadScriptAsync = function(uri){\n  return new Promise((resolve, reject) => {\n    var tag = document.createElement('script');\n    tag.src = uri;\n    tag.async = true;\n    tag.onload = () => {\n      resolve();\n    };\n  var firstScriptTag = document.getElementsByTagName('script')[0];\n  firstScriptTag.parentNode.insertBefore(tag, firstScriptTag);\n});\n};\n\nif(typeof $3Dmolpromise === 'undefined') {\n$3Dmolpromise = null;\n  $3Dmolpromise = loadScriptAsync('https://cdn.jsdelivr.net/npm/3dmol@latest/build/3Dmol-min.min.js');\n}\n\nvar viewer_16712986021390426 = null;\nvar warn = document.getElementById(\"3dmolwarning_16712986021390426\");\nif(warn) {\n    warn.parentNode.removeChild(warn);\n}\n$3Dmolpromise.then(function() {\nviewer_16712986021390426 = $3Dmol.createViewer($(\"#3dmolviewer_16712986021390426\"),{backgroundColor:\"white\"});\nviewer_16712986021390426.zoomTo();\n\tviewer_16712986021390426.removeAllModels();\n\tviewer_16712986021390426.addModel(\"\\n     RDKit          3D\\n\\n 15 15  0  0  0  0  0  0  0  0999 V2000\\n    0.0344    1.4639   -0.0145 C   0  0  1  0  0  0  0  0  0  0  0  0\\n   -0.0019    0.0063   -0.0044 N   0  0  0  0  0  0  0  0  0  0  0  0\\n   -0.0458   -0.6642    1.2086 C   0  0  0  0  0  0  0  0  0  0  0  0\\n   -0.0565   -0.1090    2.2824 O   0  0  0  0  0  0  0  0  0  0  0  0\\n    0.0084   -0.6842   -1.2118 C   0  0  0  0  0  0  0  0  0  0  0  0\\n   -0.0233   -2.0014   -1.2649 N   0  0  0  0  0  0  0  0  0  0  0  0\\n   -0.0002   -2.3144   -2.6220 O   0  0  0  0  0  0  0  0  0  0  0  0\\n    0.0441   -1.1838   -3.3314 C   0  0  0  0  0  0  0  0  0  0  0  0\\n    0.0526   -0.1011   -2.5153 C   0  0  0  0  0  0  0  0  0  0  0  0\\n    0.9467    1.8282   -0.4975 H   0  0  0  0  0  0  0  0  0  0  0  0\\n   -0.8359    1.8722   -0.5382 H   0  0  0  0  0  0  0  0  0  0  0  0\\n    0.0187    1.7900    1.0244 H   0  0  0  0  0  0  0  0  0  0  0  0\\n   -0.0699   -1.7554    1.0775 H   0  0  0  0  0  0  0  0  0  0  0  0\\n    0.0656   -1.2996   -4.4040 H   0  0  0  0  0  0  0  0  0  0  0  0\\n    0.0848    0.9382   -2.7902 H   0  0  0  0  0  0  0  0  0  0  0  0\\n  1  2  1  0\\n  1 10  1  6\\n  1 11  1  0\\n  1 12  1  0\\n  2  3  1  0\\n  2  5  1  0\\n  3  4  2  0\\n  3 13  1  0\\n  5  6  2  0\\n  5  9  1  0\\n  6  7  1  0\\n  7  8  1  0\\n  8  9  2  0\\n  8 14  1  0\\n  9 15  1  0\\nM  END\\n\",\"sdf\");\n\tviewer_16712986021390426.setStyle({\"stick\": {}});\n\tviewer_16712986021390426.setBackgroundColor(\"0xeeeeee\");\n\tviewer_16712986021390426.zoomTo();\nviewer_16712986021390426.render();\n});\n</script>",
      "text/html": [
       "<div id=\"3dmolviewer_16712986021390426\"  style=\"position: relative; width: 400px; height: 400px\">\n",
       "        <p id=\"3dmolwarning_16712986021390426\" style=\"background-color:#ffcccc;color:black\">You appear to be running in JupyterLab (or JavaScript failed to load for some other reason).  You need to install the 3dmol extension: <br>\n",
       "        <tt>jupyter labextension install jupyterlab_3dmol</tt></p>\n",
       "        </div>\n",
       "<script>\n",
       "\n",
       "var loadScriptAsync = function(uri){\n",
       "  return new Promise((resolve, reject) => {\n",
       "    var tag = document.createElement('script');\n",
       "    tag.src = uri;\n",
       "    tag.async = true;\n",
       "    tag.onload = () => {\n",
       "      resolve();\n",
       "    };\n",
       "  var firstScriptTag = document.getElementsByTagName('script')[0];\n",
       "  firstScriptTag.parentNode.insertBefore(tag, firstScriptTag);\n",
       "});\n",
       "};\n",
       "\n",
       "if(typeof $3Dmolpromise === 'undefined') {\n",
       "$3Dmolpromise = null;\n",
       "  $3Dmolpromise = loadScriptAsync('https://cdn.jsdelivr.net/npm/3dmol@latest/build/3Dmol-min.min.js');\n",
       "}\n",
       "\n",
       "var viewer_16712986021390426 = null;\n",
       "var warn = document.getElementById(\"3dmolwarning_16712986021390426\");\n",
       "if(warn) {\n",
       "    warn.parentNode.removeChild(warn);\n",
       "}\n",
       "$3Dmolpromise.then(function() {\n",
       "viewer_16712986021390426 = $3Dmol.createViewer($(\"#3dmolviewer_16712986021390426\"),{backgroundColor:\"white\"});\n",
       "viewer_16712986021390426.zoomTo();\n",
       "\tviewer_16712986021390426.removeAllModels();\n",
       "\tviewer_16712986021390426.addModel(\"\\n     RDKit          3D\\n\\n 15 15  0  0  0  0  0  0  0  0999 V2000\\n    0.0344    1.4639   -0.0145 C   0  0  1  0  0  0  0  0  0  0  0  0\\n   -0.0019    0.0063   -0.0044 N   0  0  0  0  0  0  0  0  0  0  0  0\\n   -0.0458   -0.6642    1.2086 C   0  0  0  0  0  0  0  0  0  0  0  0\\n   -0.0565   -0.1090    2.2824 O   0  0  0  0  0  0  0  0  0  0  0  0\\n    0.0084   -0.6842   -1.2118 C   0  0  0  0  0  0  0  0  0  0  0  0\\n   -0.0233   -2.0014   -1.2649 N   0  0  0  0  0  0  0  0  0  0  0  0\\n   -0.0002   -2.3144   -2.6220 O   0  0  0  0  0  0  0  0  0  0  0  0\\n    0.0441   -1.1838   -3.3314 C   0  0  0  0  0  0  0  0  0  0  0  0\\n    0.0526   -0.1011   -2.5153 C   0  0  0  0  0  0  0  0  0  0  0  0\\n    0.9467    1.8282   -0.4975 H   0  0  0  0  0  0  0  0  0  0  0  0\\n   -0.8359    1.8722   -0.5382 H   0  0  0  0  0  0  0  0  0  0  0  0\\n    0.0187    1.7900    1.0244 H   0  0  0  0  0  0  0  0  0  0  0  0\\n   -0.0699   -1.7554    1.0775 H   0  0  0  0  0  0  0  0  0  0  0  0\\n    0.0656   -1.2996   -4.4040 H   0  0  0  0  0  0  0  0  0  0  0  0\\n    0.0848    0.9382   -2.7902 H   0  0  0  0  0  0  0  0  0  0  0  0\\n  1  2  1  0\\n  1 10  1  6\\n  1 11  1  0\\n  1 12  1  0\\n  2  3  1  0\\n  2  5  1  0\\n  3  4  2  0\\n  3 13  1  0\\n  5  6  2  0\\n  5  9  1  0\\n  6  7  1  0\\n  7  8  1  0\\n  8  9  2  0\\n  8 14  1  0\\n  9 15  1  0\\nM  END\\n\",\"sdf\");\n",
       "\tviewer_16712986021390426.setStyle({\"stick\": {}});\n",
       "\tviewer_16712986021390426.setBackgroundColor(\"0xeeeeee\");\n",
       "\tviewer_16712986021390426.zoomTo();\n",
       "viewer_16712986021390426.render();\n",
       "});\n",
       "</script>"
      ]
     },
     "metadata": {},
     "output_type": "display_data"
    },
    {
     "data": {
      "image/png": "[encoded data removed]",
      "text/html": [],
      "text/plain": [
       "<rdkit.Chem.rdchem.Mol at 0x243a60ad710>"
      ]
     },
     "execution_count": 16,
     "metadata": {},
     "output_type": "execute_result"
    }
   ],
   "source": [
    "ind,smi = cleanup_qm9_xyz('../data/dsgdb9nsd_127185.xyz')\n",
    "raw_mol = Chem.MolFromXYZBlock(ind)\n",
    "conn_mol = Chem.Mol(raw_mol)\n",
    "rdDetermineBonds.DetermineBonds(conn_mol,charge=0)\n",
    "conn_mol\n"
   ]
  },
  {
   "cell_type": "code",
   "execution_count": 17,
   "id": "20d830c9",
   "metadata": {},
   "outputs": [
    {
     "name": "stdout",
     "output_type": "stream",
     "text": [
      "CN(C=O)c1ccon1 CN(C=O)c1ccon1\n"
     ]
    },
    {
     "data": {
      "text/plain": [
       "True"
      ]
     },
     "execution_count": 17,
     "metadata": {},
     "output_type": "execute_result"
    }
   ],
   "source": [
    "cm = Chem.RemoveHs(conn_mol)\n",
    "osmi = Chem.MolToSmiles(cm)\n",
    "smi = Chem.CanonSmiles(smi)\n",
    "print(osmi,smi)\n",
    "osmi==smi"
   ]
  },
  {
   "cell_type": "markdown",
   "id": "10ad573f",
   "metadata": {},
   "source": [
    "Since this method needs the Hs to be there, it unfortunately won't be useful in assigning bond orders to the ligands from PDB structures... ah well."
   ]
  },
  {
   "cell_type": "code",
   "execution_count": null,
   "id": "3591f35b",
   "metadata": {},
   "outputs": [],
   "source": []
  }
 ],
 "metadata": {
  "kernelspec": {
   "display_name": "Python 3 (ipykernel)",
   "language": "python",
   "name": "python3"
  },
  "language_info": {
   "codemirror_mode": {
    "name": "ipython",
    "version": 3
   },
   "file_extension": ".py",
   "mimetype": "text/x-python",
   "name": "python",
   "nbconvert_exporter": "python",
   "pygments_lexer": "ipython3",
   "version": "3.10.8"
  }
 },
 "nbformat": 4,
 "nbformat_minor": 5
}
