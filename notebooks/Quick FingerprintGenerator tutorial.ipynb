{
 "cells": [
  {
   "cell_type": "code",
   "execution_count": 1,
   "metadata": {
    "ExecuteTime": {
     "end_time": "2023-01-15T07:16:12.127662Z",
     "start_time": "2023-01-15T07:16:10.509305Z"
    }
   },
   "outputs": [
    {
     "name": "stdout",
     "output_type": "stream",
     "text": [
      "2022.09.1\n"
     ]
    }
   ],
   "source": [
    "from rdkit import Chem\n",
    "from rdkit.Chem import rdFingerprintGenerator\n",
    "from rdkit import DataStructs\n",
    "import rdkit\n",
    "print(rdkit.__version__)"
   ]
  },
  {
   "cell_type": "markdown",
   "metadata": {},
   "source": [
    "Start by getting some molecules to work with"
   ]
  },
  {
   "cell_type": "code",
   "execution_count": 3,
   "metadata": {
    "ExecuteTime": {
     "end_time": "2023-01-15T07:20:06.135247Z",
     "start_time": "2023-01-15T07:20:05.108217Z"
    }
   },
   "outputs": [
    {
     "data": {
      "text/plain": [
       "452"
      ]
     },
     "execution_count": 3,
     "metadata": {},
     "output_type": "execute_result"
    }
   ],
   "source": [
    "ms = [x for x in Chem.SmilesMolSupplier('../data/BLSets_selected_actives.txt') if x.GetProp('_Name')=='CHEMBL204']\n",
    "len(ms)"
   ]
  },
  {
   "cell_type": "markdown",
   "metadata": {},
   "source": [
    "The idea of the new code is that all supported fingerprint algorithms can be used the same way: you create a generator for that fingerprint algorithm with the appropriate parameters set and then ask the generator to give you the fingerprint type you want for each molecule.\n",
    "\n",
    "Let's look at how that works for Morgan fingerprints. When we create the generator we provide the radius and the size of the fingerprints to be generated:"
   ]
  },
  {
   "cell_type": "code",
   "execution_count": 5,
   "metadata": {
    "ExecuteTime": {
     "end_time": "2023-01-15T07:20:10.560497Z",
     "start_time": "2023-01-15T07:20:10.555747Z"
    }
   },
   "outputs": [],
   "source": [
    "fpgen = rdFingerprintGenerator.GetMorganGenerator(radius=2,fpSize=2048)"
   ]
  },
  {
   "cell_type": "markdown",
   "metadata": {},
   "source": [
    "The fingerprint generator knows how to create four separate types of fingerprints:\n",
    "1. `fpgen.GetFingerprint(m)`: returns a bit vector of size `fpSize`\n",
    "2. `fpgen.GetCountFingerprint(m)`: returns a count vector of size `fpSize`\n",
    "3. `fpgen.GetSparseFingerprint(m)`: returns a sparse bit vector\n",
    "4. `fpgen.GetSparseCountFingerprint(m)`: returns a sparse count vector\n",
    "\n",
    "The sparse bit and count vectors are of variable size, depending on the fingerprint type, but are always very large (at least $2^{32}-1$).\n",
    "\n",
    "Here's a demonstration of that:"
   ]
  },
  {
   "cell_type": "code",
   "execution_count": 3,
   "metadata": {},
   "outputs": [],
   "source": [
    "fp = fpgen.GetFingerprint(ms[0])\n",
    "cfp = fpgen.GetCountFingerprint(ms[0])\n",
    "sfp = fpgen.GetSparseFingerprint(ms[0])\n",
    "scfp = fpgen.GetSparseCountFingerprint(ms[0])"
   ]
  },
  {
   "cell_type": "code",
   "execution_count": 4,
   "metadata": {},
   "outputs": [
    {
     "name": "stdout",
     "output_type": "stream",
     "text": [
      "fp: <class 'rdkit.DataStructs.cDataStructs.ExplicitBitVect'> 2048\n",
      "cfp: <class 'rdkit.DataStructs.cDataStructs.UIntSparseIntVect'> 2048\n",
      "sfp: <class 'rdkit.DataStructs.cDataStructs.SparseBitVect'> 4294967295\n",
      "scfp: <class 'rdkit.DataStructs.cDataStructs.ULongSparseIntVect'> 18446744073709551615\n"
     ]
    }
   ],
   "source": [
    "print(f'fp: {type(fp)} {len(fp)}')\n",
    "print(f'cfp: {type(cfp)} {cfp.GetLength()}')\n",
    "print(f'sfp: {type(sfp)} {len(sfp)}')\n",
    "print(f'scfp: {type(scfp)} {scfp.GetLength()}')"
   ]
  },
  {
   "cell_type": "code",
   "execution_count": null,
   "metadata": {},
   "outputs": [],
   "source": []
  }
 ],
 "metadata": {
  "kernelspec": {
   "display_name": "Python 3",
   "language": "python",
   "name": "python3"
  },
  "language_info": {
   "codemirror_mode": {
    "name": "ipython",
    "version": 3
   },
   "file_extension": ".py",
   "mimetype": "text/x-python",
   "name": "python",
   "nbconvert_exporter": "python",
   "pygments_lexer": "ipython3",
   "version": "3.9.4"
  },
  "toc": {
   "base_numbering": 1,
   "nav_menu": {},
   "number_sections": true,
   "sideBar": true,
   "skip_h1_title": false,
   "title_cell": "Table of Contents",
   "title_sidebar": "Contents",
   "toc_cell": false,
   "toc_position": {},
   "toc_section_display": true,
   "toc_window_display": false
  }
 },
 "nbformat": 4,
 "nbformat_minor": 4
}
